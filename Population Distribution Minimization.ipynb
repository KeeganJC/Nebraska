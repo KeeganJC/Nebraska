{
 "cells": [
  {
   "cell_type": "code",
   "execution_count": 30,
   "id": "d766495d",
   "metadata": {},
   "outputs": [
    {
     "name": "stdout",
     "output_type": "stream",
     "text": [
      "population =  [6129, 9998, 11308, 818, 7547, 15740, 36288, 736, 11055, 614, 36691, 3966, 158840, 36970, 20234, 2538, 3812, 517110, 25241, 5713, 5505, 5217, 9182, 2756, 4500, 6489, 6000, 6274, 824, 763, 8852, 632, 5406, 478, 3821, 2044, 3423, 9188, 9124, 8395, 10435, 32237, 5890, 10939, 46102, 6858, 24326, 20780, 647, 6685, 2049, 1311, 1941, 2773, 2099, 5228, 2908, 690, 4959, 6542, 7845, 3145, 10515, 21006, 460, 5469, 16750, 9595, 8701, 7248, 5042, 58607, 4260, 34876, 3225, 3735, 967, 22311, 13665, 539, 2970, 1526, 285407, 31364, 9139, 2057, 8368, 6940, 7266, 8363, 14200, 3152, 2008]\n"
     ]
    }
   ],
   "source": [
    "# read text file \"Nebraska.population\" and store it as a list called population\n",
    "population = list()\n",
    "\n",
    "#open text file to be read\n",
    "filepath = r\"C:\\Users\\Keegan\\Desktop\\\\\" \n",
    "filename = \"Nebraska.population.txt\"\n",
    "file = open( filepath + filename , \"r\")\n",
    "\n",
    "\n",
    "#read in a new county population\n",
    "line = file.readline()\n",
    "\n",
    "while line != \"\":\n",
    "    #split line into two \"words\":\n",
    "    # word[0]: the county's number\n",
    "    # word[1]: the county's population\n",
    "    words = line.split()\n",
    "    county_number = words[0]\n",
    "    county_population = int(words[1])\n",
    "    \n",
    "    # append to population list\n",
    "    population.append(county_population)\n",
    "    \n",
    "    #read next line\n",
    "    line=file.readline()\n",
    "\n",
    "file.close()\n",
    "print(\"population = \", population)\n"
   ]
  },
  {
   "cell_type": "code",
   "execution_count": 31,
   "id": "f42a3abd",
   "metadata": {},
   "outputs": [],
   "source": [
    "# we are to solve the following task:\n",
    "# input: a population vector, desired number of districts k\n",
    "# output: a partition of the populations into k districts (not necessarily connected!) \n",
    "#            to minimize the difference between most and least populated districts\n",
    "\n",
    "import gurobipy as gp\n",
    "from gurobipy import GRB"
   ]
  },
  {
   "cell_type": "code",
   "execution_count": 49,
   "id": "f310659e",
   "metadata": {},
   "outputs": [],
   "source": [
    "c = len(population) # this is the number of counties\n",
    "d = 3                  #this is the number of districts for Nebraska\n",
    "\n",
    "#create model\n",
    "m = gp.Model()\n",
    "\n",
    "x= m.addVars(c,k,vtype=GRB.BINARY) # Either county i is in district j or it is not \"0\"\n",
    "y = m.addVar()                     #population of the least populated district\n",
    "z= m.addVar()                      #population of the most populated district"
   ]
  },
  {
   "cell_type": "code",
   "execution_count": 52,
   "id": "a75706c7",
   "metadata": {},
   "outputs": [],
   "source": [
    "m.setObjective(z-y,GRB.MINIMIZE)   # the objective is to minimize the population deviation between the districts\n",
    "\n",
    "m.addConstrs(sum(x[i,j] for j in range(d)) == 1 for i in range(c)) #Each county can only be in one district\n",
    "\n",
    "m.addConstrs(y<= sum( population[i] * x[i,j] for i in range(c)) for j in range(d)) #each district must have at least population of y\n",
    "\n",
    "m.addConstrs( sum( population[i] * x[i,j] for i in range(c))  <= z for j in range(d)) # each district can have at most the population of z\n",
    "m.update()"
   ]
  },
  {
   "cell_type": "code",
   "execution_count": 54,
   "id": "6c9a5fcc",
   "metadata": {},
   "outputs": [
    {
     "name": "stdout",
     "output_type": "stream",
     "text": [
      "Gurobi Optimizer version 9.1.2 build v9.1.2rc0 (win64)\n",
      "Thread count: 8 physical cores, 16 logical processors, using up to 16 threads\n",
      "Optimize a model with 198 rows, 281 columns and 1686 nonzeros\n",
      "Model fingerprint: 0xb780db20\n",
      "Variable types: 2 continuous, 279 integer (279 binary)\n",
      "Coefficient statistics:\n",
      "  Matrix range     [1e+00, 5e+05]\n",
      "  Objective range  [1e+00, 1e+00]\n",
      "  Bounds range     [1e+00, 1e+00]\n",
      "  RHS range        [1e+00, 1e+00]\n",
      "\n",
      "MIP start from previous solve produced solution with objective 1 (0.00s)\n",
      "Loaded MIP start from previous solve with objective 1\n",
      "\n",
      "Presolve removed 99 rows and 0 columns\n",
      "Presolve time: 0.00s\n",
      "Presolved: 99 rows, 281 columns, 843 nonzeros\n",
      "Variable types: 0 continuous, 281 integer (279 binary)\n",
      "\n",
      "Root relaxation: objective -1.164153e-10, 91 iterations, 0.00 seconds\n",
      "\n",
      "    Nodes    |    Current Node    |     Objective Bounds      |     Work\n",
      " Expl Unexpl |  Obj  Depth IntInf | Incumbent    BestBd   Gap | It/Node Time\n",
      "\n",
      "     0     0   -0.00000    0    6    1.00000   -0.00000   100%     -    0s\n",
      "     0     0    0.00000    0    7    1.00000    0.00000   100%     -    0s\n",
      "     0     0    0.00000    0    8    1.00000    0.00000   100%     -    0s\n",
      "     0     0    0.00000    0    8    1.00000    0.00000   100%     -    0s\n",
      "     0     0    0.00000    0    8    1.00000    0.00000   100%     -    0s\n",
      "     0     2    0.00000    0    8    1.00000    0.00000   100%     -    0s\n",
      "\n",
      "Explored 3 nodes (225 simplex iterations) in 0.27 seconds\n",
      "Thread count was 16 (of 16 available processors)\n",
      "\n",
      "Solution count 1: 1 \n",
      "\n",
      "Optimal solution found (tolerance 1.00e-04)\n",
      "Best objective 1.000000000000e+00, best bound 1.000000000000e+00, gap 0.0000%\n"
     ]
    }
   ],
   "source": [
    "m.optimize() \n",
    "#solve the IP model note: this model does not impose contiguity or other applicable Nebraska Law\n"
   ]
  },
  {
   "cell_type": "code",
   "execution_count": 56,
   "id": "6438f89e",
   "metadata": {},
   "outputs": [
    {
     "name": "stdout",
     "output_type": "stream",
     "text": [
      "The minimum population deviation for each district is 1.0 people.\n",
      "District 0 had population of 608780 and contains the following counties [0, 3, 7, 10, 11, 12, 13, 16, 18, 19, 23, 24, 25, 26, 27, 29, 30, 32, 34, 35, 36, 37, 38, 41, 42, 45, 46, 47, 49, 50, 51, 53, 54, 57, 59, 60, 63, 64, 67, 69, 71, 72, 74, 78, 79, 80, 84, 85, 86]\n",
      "District 1 had population of 608781 and contains the following counties [4, 8, 17, 20, 21, 48, 55, 70, 76, 77, 81, 88, 90, 91, 92]\n",
      "District 2 had population of 608780 and contains the following counties [1, 2, 5, 6, 9, 14, 15, 22, 28, 31, 33, 39, 40, 43, 44, 52, 56, 58, 61, 62, 65, 66, 68, 73, 75, 82, 83, 87, 89]\n"
     ]
    }
   ],
   "source": [
    "print (\"The minimum population deviation for each district is\",m.objval,\"people.\")\n",
    "#print the population deviation\n",
    "\n",
    "# pull the districts and their populations\n",
    "district = [ [i for i in range(c) if x[i,j].x >0.5] for j in range(d)]\n",
    "district_population = [ sum(population[i] for i in district) for district in district]\n",
    "\n",
    "#print the information\n",
    "for j in range(d):\n",
    "    print(\"District\", j,\"had population of\",district_population[j],\"and contains the following counties\",districts[j])\n",
    "    "
   ]
  },
  {
   "cell_type": "code",
   "execution_count": null,
   "id": "463aebc0",
   "metadata": {},
   "outputs": [],
   "source": []
  }
 ],
 "metadata": {
  "kernelspec": {
   "display_name": "Python 3",
   "language": "python",
   "name": "python3"
  },
  "language_info": {
   "codemirror_mode": {
    "name": "ipython",
    "version": 3
   },
   "file_extension": ".py",
   "mimetype": "text/x-python",
   "name": "python",
   "nbconvert_exporter": "python",
   "pygments_lexer": "ipython3",
   "version": "3.8.8"
  }
 },
 "nbformat": 4,
 "nbformat_minor": 5
}
