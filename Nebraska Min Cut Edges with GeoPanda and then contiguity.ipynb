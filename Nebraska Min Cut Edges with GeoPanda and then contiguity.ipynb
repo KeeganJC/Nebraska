{
 "cells": [
  {
   "cell_type": "code",
   "execution_count": 197,
   "id": "da820bd5",
   "metadata": {},
   "outputs": [],
   "source": [
    "from gerrychain import Graph"
   ]
  },
  {
   "cell_type": "code",
   "execution_count": 198,
   "id": "2c13dee1",
   "metadata": {},
   "outputs": [],
   "source": [
    "# Read Nebraska county graph from json file \"NE_county.json\"\n",
    "filepath = r'C:\\Users\\Keegan\\Downloads\\districting-data-2020-county_NE\\NE_county.json'\n",
    "\n",
    "G = Graph.from_json(filepath)\n",
    "\n"
   ]
  },
  {
   "cell_type": "code",
   "execution_count": 199,
   "id": "acb764fb",
   "metadata": {},
   "outputs": [
    {
     "name": "stdout",
     "output_type": "stream",
     "text": [
      "Using L = 650566 and U = 657103 and k = 3\n"
     ]
    }
   ],
   "source": [
    "# Let's impose a 1% population deviation (+/- 0.5%)\n",
    "deviation = 0.01\n",
    "\n",
    "import math\n",
    "k = 3          # number of districts\n",
    "total_population = sum(G.nodes[node]['POP100'] for node in G.nodes)\n",
    "\n",
    "L = math.ceil((1-deviation/2)*total_population/k)\n",
    "U = math.floor((1+deviation/2)*total_population/k)\n",
    "print(\"Using L =\",L,\"and U =\",U,\"and k =\",k)\n"
   ]
  },
  {
   "cell_type": "code",
   "execution_count": 200,
   "id": "ea91ad48",
   "metadata": {},
   "outputs": [],
   "source": [
    "import gurobipy as gp\n",
    "from gurobipy import GRB\n",
    "\n",
    "# create model \n",
    "m = gp.Model()\n",
    "\n",
    "# create variables\n",
    "x = m.addVars(G.nodes, k, vtype=GRB.BINARY) # x[i,j] equals one when county i is assigned to district j\n",
    "y = m.addVars(G.edges, vtype=GRB.BINARY)  # y[u,v] equals one when edge {u,v} is cut"
   ]
  },
  {
   "cell_type": "code",
   "execution_count": 201,
   "id": "2cd5f0d9",
   "metadata": {},
   "outputs": [],
   "source": [
    "# objective is to minimize cut edges\n",
    "m.setObjective( gp.quicksum( y[u,v] for u,v in G.edges ), GRB.MINIMIZE )"
   ]
  },
  {
   "cell_type": "code",
   "execution_count": 202,
   "id": "be52b387",
   "metadata": {},
   "outputs": [],
   "source": [
    "# add constraints saying that each county i is assigned to one district\n",
    "m.addConstrs( gp.quicksum(x[i,j] for j in range(k)) == 1 for i in G.nodes)\n",
    "\n",
    "# add constraints saying that each district has population at least L and at most U\n",
    "m.addConstrs( gp.quicksum( G.nodes[i]['POP100'] * x[i,j] for i in G.nodes) >= L for j in range(k) )\n",
    "m.addConstrs( gp.quicksum( G.nodes[i]['POP100'] * x[i,j] for i in G.nodes) <= U for j in range(k) )\n",
    "\n",
    "# add constraints saying that edge {i,j} is cut if i is assigned to district v but j is not.\n",
    "m.addConstrs( x[i,v] - x[j,v] <= y[i,j] for i,j in G.edges for v in range(k))\n",
    "\n",
    "m.update()"
   ]
  },
  {
   "cell_type": "code",
   "execution_count": 203,
   "id": "35d1b20d",
   "metadata": {},
   "outputs": [
    {
     "name": "stdout",
     "output_type": "stream",
     "text": [
      "Gurobi Optimizer version 9.1.2 build v9.1.2rc0 (win64)\n",
      "Thread count: 8 physical cores, 16 logical processors, using up to 16 threads\n",
      "Optimize a model with 792 rows, 510 columns and 2916 nonzeros\n",
      "Model fingerprint: 0xd96cbca1\n",
      "Variable types: 0 continuous, 510 integer (510 binary)\n",
      "Coefficient statistics:\n",
      "  Matrix range     [1e+00, 6e+05]\n",
      "  Objective range  [1e+00, 1e+00]\n",
      "  Bounds range     [1e+00, 1e+00]\n",
      "  RHS range        [1e+00, 7e+05]\n",
      "Found heuristic solution: objective 140.0000000\n",
      "Presolve time: 0.00s\n",
      "Presolved: 792 rows, 510 columns, 2916 nonzeros\n",
      "Variable types: 0 continuous, 510 integer (510 binary)\n",
      "\n",
      "Root relaxation: objective 0.000000e+00, 351 iterations, 0.01 seconds\n",
      "\n",
      "    Nodes    |    Current Node    |     Objective Bounds      |     Work\n",
      " Expl Unexpl |  Obj  Depth IntInf | Incumbent    BestBd   Gap | It/Node Time\n",
      "\n",
      "     0     0    0.00000    0  279  140.00000    0.00000   100%     -    0s\n",
      "H    0     0                      96.0000000    0.00000   100%     -    0s\n",
      "H    0     0                      78.0000000    0.00000   100%     -    0s\n",
      "     0     0    1.88984    0  282   78.00000    1.88984  97.6%     -    0s\n",
      "H    0     0                      41.0000000    1.88984  95.4%     -    0s\n",
      "     0     0    4.32243    0  279   41.00000    4.32243  89.5%     -    0s\n",
      "     0     0    4.34298    0  278   41.00000    4.34298  89.4%     -    0s\n",
      "     0     0    4.34852    0  280   41.00000    4.34852  89.4%     -    0s\n",
      "     0     0    7.45004    0  283   41.00000    7.45004  81.8%     -    0s\n",
      "     0     0    7.46326    0  283   41.00000    7.46326  81.8%     -    0s\n",
      "     0     2    7.46326    0  283   41.00000    7.46326  81.8%     -    0s\n",
      "H   37    36                      24.0000000    9.91013  58.7%   147    0s\n",
      "H  225   165                      21.0000000   10.91600  48.0%   112    0s\n",
      "*  322   189              34      20.0000000   10.96225  45.2%   104    0s\n",
      "H  324   189                      16.0000000   10.96225  31.5%   103    0s\n",
      "\n",
      "Cutting planes:\n",
      "  Gomory: 4\n",
      "  MIR: 1\n",
      "  Zero half: 17\n",
      "  RLT: 17\n",
      "\n",
      "Explored 698 nodes (55084 simplex iterations) in 0.88 seconds\n",
      "Thread count was 16 (of 16 available processors)\n",
      "\n",
      "Solution count 8: 16 20 21 ... 140\n",
      "\n",
      "Optimal solution found (tolerance 1.00e-04)\n",
      "Best objective 1.600000000000e+01, best bound 1.600000000000e+01, gap 0.0000%\n"
     ]
    }
   ],
   "source": [
    "m.optimize()"
   ]
  },
  {
   "cell_type": "code",
   "execution_count": 204,
   "id": "d61824f7",
   "metadata": {},
   "outputs": [
    {
     "name": "stdout",
     "output_type": "stream",
     "text": [
      "The number of cut edges is 16.0\n",
      "District 0 has population 650600 and contains counties ['Sioux', 'Lincoln', 'Sherman', 'Logan', 'Merrick', 'Sheridan', 'Grant', 'Blaine', 'Dixon', 'Stanton', 'Wheeler', 'Franklin', 'Chase', 'Buffalo', 'Fillmore', 'York', 'Clay', 'Cheyenne', 'Garden', 'Harlan', 'Hooker', 'Furnas', 'Howard', 'Valley', 'Cedar', 'Thayer', 'Deuel', 'Morrill', 'Hall', 'Hamilton', 'Loup', 'Frontier', 'Nance', 'Knox', 'Perkins', 'Colfax', 'Butler', 'Cherry', 'Cuming', 'Nuckolls', 'Keith', 'Phelps', 'Webster', 'Dakota', 'Boyd', 'Thomas', 'Holt', 'Brown', 'Keya Paha', 'Banner', 'Greeley', 'Dundy', 'Scotts Bluff', 'Adams', 'Kearney', 'Hitchcock', 'Kimball', 'Custer', 'Polk', 'Dawes', 'Wayne', 'Garfield', 'Pierce', 'Platte', 'Box Butte', 'Thurston', 'Boone', 'Madison', 'McPherson', 'Red Willow', 'Rock', 'Gosper', 'Dawson', 'Arthur', 'Hayes', 'Antelope']\n",
      "District 1 has population 654384 and contains counties ['Pawnee', 'Sarpy', 'Saunders', 'Seward', 'Richardson', 'Lancaster', 'Saline', 'Otoe', 'Nemaha', 'Cass', 'Gage', 'Johnson']\n",
      "District 2 has population 656520 and contains counties ['Burt', 'Dodge', 'Washington', 'Jefferson', 'Douglas']\n"
     ]
    }
   ],
   "source": [
    "print(\"The number of cut edges is\",m.objval)\n",
    "\n",
    "# retrieve the districts and their populations\n",
    "districts = [ [i for i in G.nodes if x[i,j].x > 0.5] for j in range(k)]\n",
    "district_counties = [ [ G.nodes[i][\"NAME20\"] for i in districts[j] ] for j in range(k)]\n",
    "district_populations = [ sum(G.nodes[i][\"POP100\"] for i in districts[j]) for j in range(k) ]\n",
    "\n",
    "# print district info\n",
    "for j in range(k):\n",
    "    print(\"District\",j,\"has population\",district_populations[j],\"and contains counties\",district_counties[j])"
   ]
  },
  {
   "cell_type": "code",
   "execution_count": 205,
   "id": "a7190021",
   "metadata": {},
   "outputs": [],
   "source": [
    "# Draw it on a map\n",
    "import geopandas as gpd"
   ]
  },
  {
   "cell_type": "code",
   "execution_count": 206,
   "id": "51eccd30",
   "metadata": {},
   "outputs": [],
   "source": [
    "# Read shapefile from\"NE_county.shp\"\n",
    "filename = r\"C:\\Users\\Keegan\\Downloads\\districting-data-2020-county_NE\\NE_county.shp\"\n",
    "\n",
    "# Read geopandas dataframe from the file\n",
    "\n",
    "df = gpd.read_file(filename)"
   ]
  },
  {
   "cell_type": "code",
   "execution_count": 207,
   "id": "96d01c64",
   "metadata": {
    "scrolled": true
   },
   "outputs": [
    {
     "data": {
      "image/png": "[encoded data removed]",
      "text/plain": [
       "<Figure size 432x288 with 1 Axes>"
      ]
     },
     "metadata": {
      "needs_background": "light"
     },
     "output_type": "display_data"
    }
   ],
   "source": [
    "# Which district is each county assigned to?\n",
    "assignment = [ -1 for u in G.nodes ]\n",
    "    \n",
    "# for each district j\n",
    "for j in range(len(districts)):\n",
    "    \n",
    "    # for each node i in this district\n",
    "    for i in districts[j]:\n",
    "        \n",
    "        # What is its GEOID?\n",
    "        geoID = G.nodes[i][\"GEOID20\"]\n",
    "        \n",
    "        # Need to find this GEOID in the dataframe\n",
    "        for u in G.nodes:\n",
    "            if geoID == df['GEOID20'][u]: # Found it\n",
    "                assignment[u] = j \n",
    "                \n",
    "# Now add the assignments to a column of the dataframe and map it\n",
    "df['assignment'] = assignment\n",
    "fig = df.plot(column='assignment').get_figure()\n",
    "\n",
    "    "
   ]
  },
  {
   "cell_type": "code",
   "execution_count": 208,
   "id": "d471beba",
   "metadata": {},
   "outputs": [],
   "source": [
    "# The figure is not contiguous, need to add contiguity constraints.\n",
    "# Minimize the total perimiter of the district to promote compactness\n",
    "m.setObjective( gp.quicksum( G.edges[u,v]['shared_perim']*y[u,v] for u,v in G.edges ), GRB.MINIMIZE )"
   ]
  },
  {
   "cell_type": "code",
   "execution_count": 209,
   "id": "d498f0f6",
   "metadata": {},
   "outputs": [],
   "source": [
    "# add constraints saying that each county i is assigned to one district\n",
    "m.addConstrs( gp.quicksum(x[i,j] for j in range(k)) == 1 for i in G.nodes)\n",
    "\n",
    "# add constraints saying that each district has population at least L and at most U\n",
    "m.addConstrs( gp.quicksum( G.nodes[i]['POP100'] * x[i,j] for i in G.nodes) >= L for j in range(k) )\n",
    "m.addConstrs( gp.quicksum( G.nodes[i]['POP100'] * x[i,j] for i in G.nodes) <= U for j in range(k) )\n",
    "\n",
    "# add constraints saying that edge {i,j} is cut if i is assigned to district v but j is not.\n",
    "m.addConstrs( x[i,v] - x[j,v] <= y[i,j] for i,j in G.edges for v in range(k))\n",
    "\n",
    "m.update()"
   ]
  },
  {
   "cell_type": "code",
   "execution_count": 223,
   "id": "83bbbfe4",
   "metadata": {},
   "outputs": [],
   "source": [
    "# The figure is not contiguous, need to add contiguity constraints.\n",
    "# We will use the contiguity constraints of Hojny et al. (MPC, 2021)\n",
    "#   https://link.springer.com/article/10.1007/s12532-020-00186-3\n",
    "\n",
    "# Add root variables: r[i,j] equals 1 if node i is the \"root\" of district j\n",
    "r = m.addVars(G.nodes, k, vtype=GRB.BINARY)\n",
    "\n",
    "# Add flow variables: f[u,v] = amount of flow sent across arc uv \n",
    "#  Flows are sent across arcs of the directed version of G which we call DG\n",
    "import networkx as nx\n",
    "DG = nx.DiGraph(G)\n",
    "f = m.addVars(DG.edges, vtype=GRB.CONTINUOUS)\n",
    "\n"
   ]
  },
  {
   "cell_type": "code",
   "execution_count": 224,
   "id": "4e8cc301",
   "metadata": {},
   "outputs": [],
   "source": [
    "# The big-M proposed by Hojny et al.\n",
    "M = DG.number_of_nodes()- k + 1\n",
    "\n",
    "# Each district j should have one root\n",
    "m.addConstrs( gp.quicksum( r[i,j] for i in DG.nodes) == 1 for j in range(k) )\n",
    "\n",
    "# If node i is not assigned to district j, then it cannot be its root\n",
    "m.addConstrs( r[i,j] <= x[i,j] for i in DG.nodes for j in range(k) )\n",
    "\n",
    "# if not a root, consume some flow.\n",
    "# if a root, only send out (so much) flow.\n",
    "m.addConstrs( gp.quicksum( f[u,v] - f[v,u] for u in DG.neighbors(v) ) >= 1 - M * gp.quicksum( r[v,j] for j in range(k)) for v in G.nodes)\n",
    "\n",
    "\n",
    "# do not send flow across cut edges\n",
    "m.addConstrs( f[i,j] + f[j,i] <= M * (1 - y[i,j]) for (i,j) in G.edges )\n",
    "\n",
    "m.update()\n"
   ]
  },
  {
   "cell_type": "code",
   "execution_count": 225,
   "id": "15ed9cf1",
   "metadata": {
    "scrolled": true
   },
   "outputs": [
    {
     "name": "stdout",
     "output_type": "stream",
     "text": [
      "Gurobi Optimizer version 9.1.2 build v9.1.2rc0 (win64)\n",
      "Thread count: 8 physical cores, 16 logical processors, using up to 16 threads\n",
      "Optimize a model with 2754 rows, 1530 columns and 10239 nonzeros\n",
      "Model fingerprint: 0xf9d3f44b\n",
      "Variable types: 462 continuous, 1068 integer (1068 binary)\n",
      "Coefficient statistics:\n",
      "  Matrix range     [1e+00, 6e+05]\n",
      "  Objective range  [9e-04, 1e+00]\n",
      "  Bounds range     [1e+00, 1e+00]\n",
      "  RHS range        [1e+00, 7e+05]\n",
      "\n",
      "MIP start from previous solve did not produce a new incumbent solution\n",
      "\n",
      "Presolve removed 1074 rows and 0 columns\n",
      "Presolve time: 0.01s\n",
      "Presolved: 1680 rows, 1530 columns, 6492 nonzeros\n",
      "Variable types: 462 continuous, 1068 integer (1068 binary)\n",
      "\n",
      "Root relaxation: objective 2.691879e-01, 550 iterations, 0.01 seconds\n",
      "\n",
      "    Nodes    |    Current Node    |     Objective Bounds      |     Work\n",
      " Expl Unexpl |  Obj  Depth IntInf | Incumbent    BestBd   Gap | It/Node Time\n",
      "\n",
      "     0     0    0.26919    0  298          -    0.26919      -     -    0s\n",
      "     0     0    0.50351    0  304          -    0.50351      -     -    0s\n",
      "     0     0    1.92766    0  205          -    1.92766      -     -    0s\n",
      "     0     0    2.23033    0  133          -    2.23033      -     -    0s\n",
      "     0     0    2.23523    0  130          -    2.23523      -     -    0s\n",
      "     0     0    2.45562    0  155          -    2.45562      -     -    0s\n",
      "     0     0    2.72057    0  196          -    2.72057      -     -    0s\n",
      "     0     0    2.72409    0  193          -    2.72409      -     -    0s\n",
      "     0     0    2.80060    0  317          -    2.80060      -     -    0s\n",
      "     0     0    2.80857    0  340          -    2.80857      -     -    0s\n",
      "     0     0    2.80858    0  339          -    2.80858      -     -    0s\n",
      "     0     0    2.81830    0  322          -    2.81830      -     -    0s\n",
      "     0     0    2.83050    0  328          -    2.83050      -     -    0s\n",
      "     0     0    2.83102    0  332          -    2.83102      -     -    0s\n",
      "     0     0    2.83432    0  327          -    2.83432      -     -    0s\n",
      "     0     0    2.83432    0  327          -    2.83432      -     -    0s\n",
      "     0     0    2.83432    0  329          -    2.83432      -     -    0s\n",
      "     0     0    2.83432    0  325          -    2.83432      -     -    0s\n",
      "     0     2    2.83432    0  325          -    2.83432      -     -    0s\n",
      "  2863  2121    7.10116   27   82          -    3.74567      -  58.1    5s\n",
      "* 3776  1498              59       6.0208151    3.74567  37.8%  67.1    5s\n",
      "H 4083  1227                       5.5178997    3.96025  28.2%  67.7    5s\n",
      "H 4224  1062                       5.4641004    3.96025  27.5%  68.4    5s\n",
      "* 4701   785              37       5.4479333    4.02022  26.2%  68.4    5s\n",
      "\n",
      "Cutting planes:\n",
      "  Gomory: 5\n",
      "  MIR: 3\n",
      "  Flow cover: 18\n",
      "  GUB cover: 1\n",
      "  Inf proof: 3\n",
      "  Zero half: 31\n",
      "  RLT: 55\n",
      "\n",
      "Explored 6111 nodes (451725 simplex iterations) in 6.69 seconds\n",
      "Thread count was 16 (of 16 available processors)\n",
      "\n",
      "Solution count 4: 5.44793 5.4641 5.5179 6.02082 \n",
      "\n",
      "Optimal solution found (tolerance 1.00e-04)\n",
      "Best objective 5.447933292061e+00, best bound 5.447933292061e+00, gap 0.0000%\n"
     ]
    }
   ],
   "source": [
    "m.optimize()"
   ]
  },
  {
   "cell_type": "code",
   "execution_count": 226,
   "id": "e431b639",
   "metadata": {},
   "outputs": [
    {
     "name": "stdout",
     "output_type": "stream",
     "text": [
      "The minimum optimal perimeter lenght is 5.447933292060944\n",
      "District 0 has population 651067 and contains counties ['Sioux', 'Lincoln', 'Sherman', 'Logan', 'Merrick', 'Sheridan', 'Grant', 'Blaine', 'Dixon', 'Stanton', 'Wheeler', 'Franklin', 'Chase', 'Buffalo', 'Fillmore', 'York', 'Clay', 'Cheyenne', 'Garden', 'Harlan', 'Hooker', 'Furnas', 'Howard', 'Valley', 'Cedar', 'Thayer', 'Deuel', 'Morrill', 'Hall', 'Hamilton', 'Loup', 'Frontier', 'Nance', 'Knox', 'Perkins', 'Colfax', 'Butler', 'Cherry', 'Cuming', 'Nuckolls', 'Keith', 'Phelps', 'Webster', 'Dakota', 'Boyd', 'Thomas', 'Holt', 'Brown', 'Keya Paha', 'Banner', 'Greeley', 'Jefferson', 'Dundy', 'Scotts Bluff', 'Adams', 'Kearney', 'Hitchcock', 'Kimball', 'Custer', 'Polk', 'Dawes', 'Wayne', 'Garfield', 'Pierce', 'Platte', 'Box Butte', 'Boone', 'Madison', 'McPherson', 'Red Willow', 'Rock', 'Gosper', 'Dawson', 'Arthur', 'Hayes', 'Antelope']\n",
      "District 1 has population 654384 and contains counties ['Pawnee', 'Sarpy', 'Saunders', 'Seward', 'Richardson', 'Lancaster', 'Saline', 'Otoe', 'Nemaha', 'Cass', 'Gage', 'Johnson']\n",
      "District 2 has population 656053 and contains counties ['Burt', 'Dodge', 'Washington', 'Douglas', 'Thurston']\n"
     ]
    }
   ],
   "source": [
    "#obj.val is the minimum total perimeter distance\n",
    "print(\"The minimum optimal perimeter lenght is\",m.objval)\n",
    "# retrieve the districts and their populations\n",
    "districts1 = [ [i for i in G.nodes if x[i,j].x > 0.5] for j in range(k)]\n",
    "district_counties1 = [ [ G.nodes[i][\"NAME20\"] for i in districts1[j] ] for j in range(k)]\n",
    "district_populations1 = [ sum(G.nodes[i][\"POP100\"] for i in districts1[j]) for j in range(k) ]\n",
    "\n",
    "# print district info\n",
    "for j in range(k):\n",
    "    print(\"District\",j,\"has population\",district_populations1[j],\"and contains counties\",district_counties1[j])"
   ]
  },
  {
   "cell_type": "code",
   "execution_count": 227,
   "id": "a99d7f6b",
   "metadata": {},
   "outputs": [],
   "source": [
    "# Draw it on a map\n",
    "import geopandas as gpd"
   ]
  },
  {
   "cell_type": "code",
   "execution_count": 228,
   "id": "0cd807fb",
   "metadata": {},
   "outputs": [],
   "source": [
    "# Read shapefile from\"NE_county.shp\"\n",
    "filename1 = r\"C:\\Users\\Keegan\\Downloads\\districting-data-2020-county_NE\\NE_county.shp\"\n",
    "\n",
    "# Read geopandas dataframe from the file\n",
    "\n",
    "df2 = gpd.read_file(filename1)"
   ]
  },
  {
   "cell_type": "code",
   "execution_count": 230,
   "id": "bef5dd57",
   "metadata": {},
   "outputs": [
    {
     "data": {
      "image/png": "[encoded data removed]",
      "text/plain": [
       "<Figure size 432x288 with 1 Axes>"
      ]
     },
     "metadata": {
      "needs_background": "light"
     },
     "output_type": "display_data"
    }
   ],
   "source": [
    "# Which district is each county assigned to?\n",
    "assignment1 = [ -1 for u in DG.nodes ]\n",
    "    \n",
    "# for each district j\n",
    "for j in range(len(districts1)):\n",
    "    \n",
    "    # for each node i in this district\n",
    "    for i in districts1[j]:\n",
    "        \n",
    "        # What is its GEOID?\n",
    "        geoID1 = DG.nodes[i][\"GEOID20\"]\n",
    "        \n",
    "        # Need to find this GEOID in the dataframe\n",
    "        for u in DG.nodes:\n",
    "            if geoID1 == df['GEOID20'][u]: # Found it\n",
    "                assignment1[u] = j \n",
    "                \n",
    "# Now add the assignments to a column of the dataframe and map it\n",
    "df2['assignment1'] = assignment1\n",
    "fig1 = df2.plot(column='assignment1').get_figure()\n",
    "\n",
    "    "
   ]
  },
  {
   "cell_type": "code",
   "execution_count": null,
   "id": "d27fc7be",
   "metadata": {},
   "outputs": [],
   "source": []
  },
  {
   "cell_type": "code",
   "execution_count": null,
   "id": "4b917772",
   "metadata": {},
   "outputs": [],
   "source": []
  },
  {
   "cell_type": "code",
   "execution_count": null,
   "id": "6819a486",
   "metadata": {},
   "outputs": [],
   "source": []
  }
 ],
 "metadata": {
  "kernelspec": {
   "display_name": "Python 3",
   "language": "python",
   "name": "python3"
  },
  "language_info": {
   "codemirror_mode": {
    "name": "ipython",
    "version": 3
   },
   "file_extension": ".py",
   "mimetype": "text/x-python",
   "name": "python",
   "nbconvert_exporter": "python",
   "pygments_lexer": "ipython3",
   "version": "3.8.8"
  }
 },
 "nbformat": 4,
 "nbformat_minor": 5
}
