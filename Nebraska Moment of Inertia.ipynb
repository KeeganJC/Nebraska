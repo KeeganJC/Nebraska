{
 "cells": [
  {
   "cell_type": "code",
   "execution_count": 1,
   "id": "7eabc25a",
   "metadata": {},
   "outputs": [],
   "source": [
    "from gerrychain import Graph"
   ]
  },
  {
   "cell_type": "code",
   "execution_count": 2,
   "id": "45b053ec",
   "metadata": {},
   "outputs": [],
   "source": [
    "filepath = r'C:\\Users\\Keegan\\Downloads\\districting-data-2020-county_NE\\NE_county.json'\n",
    "\n",
    "G = Graph.from_json(filepath)"
   ]
  },
  {
   "cell_type": "code",
   "execution_count": 3,
   "id": "3287e311",
   "metadata": {},
   "outputs": [
    {
     "name": "stdout",
     "output_type": "stream",
     "text": [
      "Node 0 is Sioux County, with population 1135 and is centered at( +42.4706681 , -103.7321705\n",
      "Node 1 is Lincoln County, with population 34676 and is centered at( +41.0503221 , -100.7444808\n",
      "Node 2 is Sherman County, with population 2959 and is centered at( +41.2187425 , -098.9728492\n",
      "Node 3 is Logan County, with population 716 and is centered at( +41.5421555 , -100.4436647\n",
      "Node 4 is Merrick County, with population 7668 and is centered at( +41.1697896 , -098.0310573\n",
      "Node 5 is Sheridan County, with population 5127 and is centered at( +42.5122888 , -102.3682795\n",
      "Node 6 is Pawnee County, with population 2544 and is centered at( +40.1377971 , -096.2452136\n",
      "Node 7 is Sarpy County, with population 190604 and is centered at( +41.1150635 , -096.1091254\n",
      "Node 8 is Grant County, with population 611 and is centered at( +41.9139574 , -101.7559645\n",
      "Node 9 is Burt County, with population 6722 and is centered at( +41.8541794 , -096.3377462\n",
      "Node 10 is Saunders County, with population 22278 and is centered at( +41.2233882 , -096.6420968\n",
      "Node 11 is Blaine County, with population 431 and is centered at( +41.9319450 , -099.9964074\n",
      "Node 12 is Dixon County, with population 5606 and is centered at( +42.4850864 , -096.8557845\n",
      "Node 13 is Stanton County, with population 5842 and is centered at( +41.9050454 , -097.1771094\n",
      "Node 14 is Wheeler County, with population 774 and is centered at( +41.9225747 , -098.5208533\n",
      "Node 15 is Franklin County, with population 2889 and is centered at( +40.1832031 , -098.9620800\n",
      "Node 16 is Dodge County, with population 37167 and is centered at( +41.5770082 , -096.6458524\n",
      "Node 17 is Chase County, with population 3893 and is centered at( +40.5303903 , -101.6941918\n",
      "Node 18 is Buffalo County, with population 50084 and is centered at( +40.8552654 , -099.0749839\n",
      "Node 19 is Fillmore County, with population 5551 and is centered at( +40.5250399 , -097.5967053\n",
      "Node 20 is York County, with population 14125 and is centered at( +40.8730557 , -097.5967418\n",
      "Node 21 is Seward County, with population 17609 and is centered at( +40.8719439 , -097.1403830\n",
      "Node 22 is Clay County, with population 6104 and is centered at( +40.5236693 , -098.0508585\n",
      "Node 23 is Cheyenne County, with population 9468 and is centered at( +41.2142358 , -103.0119289\n",
      "Node 24 is Garden County, with population 1874 and is centered at( +41.6333638 , -102.3029845\n",
      "Node 25 is Harlan County, with population 3073 and is centered at( +40.1787663 , -099.4034177\n",
      "Node 26 is Washington County, with population 20865 and is centered at( +41.5339726 , -096.2245771\n",
      "Node 27 is Hooker County, with population 711 and is centered at( +41.9203170 , -101.1173240\n",
      "Node 28 is Richardson County, with population 7871 and is centered at( +40.1237427 , -095.7186026\n",
      "Node 29 is Furnas County, with population 4636 and is centered at( +40.1918650 , -099.9096631\n",
      "Node 30 is Howard County, with population 6475 and is centered at( +41.2168513 , -098.5133417\n",
      "Node 31 is Valley County, with population 4059 and is centered at( +41.5640938 , -098.9834841\n",
      "Node 32 is Cedar County, with population 8380 and is centered at( +42.6045604 , -097.2568696\n",
      "Node 33 is Thayer County, with population 5034 and is centered at( +40.1738446 , -097.5962626\n",
      "Node 34 is Deuel County, with population 1838 and is centered at( +41.1119026 , -102.3326090\n",
      "Node 35 is Morrill County, with population 4555 and is centered at( +41.7322039 , -102.9905936\n",
      "Node 36 is Hall County, with population 62895 and is centered at( +40.8660265 , -098.5026645\n",
      "Node 37 is Hamilton County, with population 9429 and is centered at( +40.8728173 , -098.0223294\n",
      "Node 38 is Loup County, with population 607 and is centered at( +41.9031834 , -099.5098521\n",
      "Node 39 is Frontier County, with population 2519 and is centered at( +40.5309469 , -100.4066834\n",
      "Node 40 is Nance County, with population 3380 and is centered at( +41.4023855 , -097.9914083\n",
      "Node 41 is Knox County, with population 8391 and is centered at( +42.6344045 , -097.8913492\n",
      "Node 42 is Perkins County, with population 2858 and is centered at( +40.8576462 , -101.6274676\n",
      "Node 43 is Colfax County, with population 10582 and is centered at( +41.5749600 , -097.0889449\n",
      "Node 44 is Butler County, with population 8369 and is centered at( +41.2260724 , -097.1320395\n",
      "Node 45 is Cherry County, with population 5455 and is centered at( +42.5713230 , -101.0476532\n",
      "Node 46 is Cuming County, with population 9013 and is centered at( +41.9158651 , -096.7885168\n",
      "Node 47 is Lancaster County, with population 322608 and is centered at( +40.7835474 , -096.6886584\n",
      "Node 48 is Nuckolls County, with population 4095 and is centered at( +40.1764918 , -098.0468422\n",
      "Node 49 is Keith County, with population 8335 and is centered at( +41.1942448 , -101.6444493\n",
      "Node 50 is Phelps County, with population 8968 and is centered at( +40.5163647 , -099.4065568\n",
      "Node 51 is Webster County, with population 3395 and is centered at( +40.1806461 , -098.4985897\n",
      "Node 52 is Dakota County, with population 21582 and is centered at( +42.3916244 , -096.5613270\n",
      "Node 53 is Boyd County, with population 1810 and is centered at( +42.8944477 , -098.7730221\n",
      "Node 54 is Thomas County, with population 669 and is centered at( +41.8557296 , -100.5247028\n",
      "Node 55 is Holt County, with population 10127 and is centered at( +42.4592867 , -098.7847662\n",
      "Node 56 is Brown County, with population 2903 and is centered at( +42.3595618 , -099.9239198\n",
      "Node 57 is Keya Paha County, with population 769 and is centered at( +42.8754803 , -099.7183514\n",
      "Node 58 is Banner County, with population 674 and is centered at( +41.5397495 , -103.7262626\n",
      "Node 59 is Greeley County, with population 2188 and is centered at( +41.5675715 , -098.5305655\n",
      "Node 60 is Jefferson County, with population 7240 and is centered at( +40.1757356 , -097.1431027\n",
      "Node 61 is Saline County, with population 14292 and is centered at( +40.5168024 , -097.1317550\n",
      "Node 62 is Dundy County, with population 1654 and is centered at( +40.1801650 , -101.6811327\n",
      "Node 63 is Scotts Bluff County, with population 36084 and is centered at( +41.8503306 , -103.7015494\n",
      "Node 64 is Adams County, with population 31205 and is centered at( +40.5206322 , -098.5000441\n",
      "Node 65 is Otoe County, with population 15912 and is centered at( +40.6379916 , -096.1310274\n",
      "Node 66 is Kearney County, with population 6688 and is centered at( +40.5091198 , -098.9476019\n",
      "Node 67 is Hitchcock County, with population 2616 and is centered at( +40.1768964 , -101.0442170\n",
      "Node 68 is Kimball County, with population 3434 and is centered at( +41.1992736 , -103.7031528\n",
      "Node 69 is Nemaha County, with population 7074 and is centered at( +40.3873891 , -095.8527214\n",
      "Node 70 is Custer County, with population 10545 and is centered at( +41.3938927 , -099.7268662\n",
      "Node 71 is Cass County, with population 26598 and is centered at( +40.9098778 , -096.1406086\n",
      "Node 72 is Polk County, with population 5214 and is centered at( +41.1879253 , -097.5706627\n",
      "Node 73 is Dawes County, with population 8199 and is centered at( +42.7130379 , -103.1354358\n",
      "Node 74 is Wayne County, with population 9697 and is centered at( +42.2107460 , -097.1262433\n",
      "Node 75 is Garfield County, with population 1813 and is centered at( +41.9068675 , -098.9512310\n",
      "Node 76 is Douglas County, with population 584526 and is centered at( +41.2970908 , -096.1540664\n",
      "Node 77 is Pierce County, with population 7317 and is centered at( +42.2714129 , -097.6109917\n",
      "Node 78 is Platte County, with population 34296 and is centered at( +41.5768655 , -097.5134673\n",
      "Node 79 is Box Butte County, with population 10842 and is centered at( +42.2103804 , -103.0817795\n",
      "Node 80 is Thurston County, with population 6773 and is centered at( +42.1540613 , -096.5339428\n",
      "Node 81 is Boone County, with population 5379 and is centered at( +41.7039345 , -098.0704764\n",
      "Node 82 is Madison County, with population 35585 and is centered at( +41.9099293 , -097.6068564\n",
      "Node 83 is McPherson County, with population 399 and is centered at( +41.6484137 , -101.1208507\n",
      "Node 84 is Red Willow County, with population 10702 and is centered at( +40.1694196 , -100.4685764\n",
      "Node 85 is Rock County, with population 1262 and is centered at( +42.3947490 , -099.4208512\n",
      "Node 86 is Gosper County, with population 1893 and is centered at( +40.5090947 , -099.8232058\n",
      "Node 87 is Gage County, with population 21704 and is centered at( +40.2552337 , -096.6834528\n",
      "Node 88 is Dawson County, with population 24111 and is centered at( +40.8678400 , -099.8155833\n",
      "Node 89 is Arthur County, with population 434 and is centered at( +41.5719297 , -101.6959166\n",
      "Node 90 is Hayes County, with population 856 and is centered at( +40.5372337 , -101.0479627\n",
      "Node 91 is Johnson County, with population 5290 and is centered at( +40.3949552 , -096.2652638\n",
      "Node 92 is Antelope County, with population 6295 and is centered at( +42.1832253 , -098.0580367\n"
     ]
    }
   ],
   "source": [
    "for node in G.nodes:\n",
    "    name = G.nodes[node][\"NAME20\"]\n",
    "    population = G.nodes[node]['POP100']\n",
    "    \n",
    "    #Get Lat and Long Coordinates\n",
    "    lat_coordinate = G.nodes[node]['INTPTLAT20']\n",
    "    long_coordinate = G.nodes[node]['INTPTLON20']\n",
    "    print(\"Node\",node,'is',name,'County, with population',population,'and is centered at(',lat_coordinate,',',long_coordinate)\n",
    "    \n",
    "    "
   ]
  },
  {
   "cell_type": "code",
   "execution_count": 4,
   "id": "9511216c",
   "metadata": {},
   "outputs": [
    {
     "name": "stdout",
     "output_type": "stream",
     "text": [
      "Requirement already satisfied: geopy in c:\\users\\keegan\\appdata\\roaming\\python\\python38\\site-packages (2.2.0)\n",
      "Requirement already satisfied: geographiclib<2,>=1.49 in c:\\users\\keegan\\appdata\\roaming\\python\\python38\\site-packages (from geopy) (1.52)\n",
      "Note: you may need to restart the kernel to use updated packages.\n"
     ]
    }
   ],
   "source": [
    "pip install geopy --user"
   ]
  },
  {
   "cell_type": "code",
   "execution_count": 5,
   "id": "5891e260",
   "metadata": {},
   "outputs": [
    {
     "name": "stdout",
     "output_type": "stream",
     "text": [
      "Requirement already satisfied: geopy in c:\\users\\keegan\\appdata\\roaming\\python\\python38\\site-packages (2.2.0)\n",
      "Requirement already satisfied: geographiclib<2,>=1.49 in c:\\users\\keegan\\appdata\\roaming\\python\\python38\\site-packages (from geopy) (1.52)\n",
      "Note: you may need to restart the kernel to use updated packages.\n"
     ]
    }
   ],
   "source": [
    "pip install geopy"
   ]
  },
  {
   "cell_type": "code",
   "execution_count": 6,
   "id": "941c2c9f",
   "metadata": {},
   "outputs": [],
   "source": [
    "from geopy.distance import geodesic"
   ]
  },
  {
   "cell_type": "code",
   "execution_count": 35,
   "id": "73463bfc",
   "metadata": {},
   "outputs": [],
   "source": [
    "# create distance dictionary\n",
    "dist = dict()\n",
    "for i in G.nodes:\n",
    "    for j in G.nodes:\n",
    "        location_i= (G.nodes[i]['INTPTLAT20'],G.nodes[i]['INTPTLON20'])\n",
    "        location_j=(G.nodes[j]['INTPTLAT20'],G.nodes[j]['INTPTLON20'])\n",
    "        dist[i,j] =geodesic(location_i,location_j).miles"
   ]
  },
  {
   "cell_type": "code",
   "execution_count": 36,
   "id": "d556415a",
   "metadata": {},
   "outputs": [
    {
     "name": "stdout",
     "output_type": "stream",
     "text": [
      "Gosper -> Gage 166.5811815392005\n"
     ]
    }
   ],
   "source": [
    "#check dictionary\n",
    "print(\"Gosper -> Gage\",dist[86,87])"
   ]
  },
  {
   "cell_type": "code",
   "execution_count": 37,
   "id": "65f22f3e",
   "metadata": {},
   "outputs": [
    {
     "name": "stdout",
     "output_type": "stream",
     "text": [
      "Using L = 650566 and U = 657103 and k = 3\n"
     ]
    }
   ],
   "source": [
    "# Let's impose a 1% population deviation (+/- 0.5%)\n",
    "deviation = 0.01\n",
    "\n",
    "import math\n",
    "k = 3          # number of districts\n",
    "total_population = sum(G.nodes[node]['POP100'] for node in G.nodes)\n",
    "\n",
    "L = math.ceil((1-deviation/2)*total_population/k)\n",
    "U = math.floor((1+deviation/2)*total_population/k)\n",
    "print(\"Using L =\",L,\"and U =\",U,\"and k =\",k)\n"
   ]
  },
  {
   "cell_type": "code",
   "execution_count": 38,
   "id": "5ec4ff08",
   "metadata": {},
   "outputs": [],
   "source": [
    "import gurobipy as gp\n",
    "from gurobipy import GRB\n",
    "\n",
    "# create model \n",
    "m = gp.Model()\n",
    "\n",
    "# create variables\n",
    "x = m.addVars(G.nodes, G.nodes, vtype=GRB.BINARY) # x[i,j] equals one when county i is assigned to district j\n"
   ]
  },
  {
   "cell_type": "code",
   "execution_count": 39,
   "id": "e9605327",
   "metadata": {},
   "outputs": [],
   "source": [
    "# objective is to minimize the moment of inertia: d^2 * p * x\n",
    "m.setObjective( gp.quicksum( dist[i,j]*dist[i,j]*G.nodes[i]['POP100']*x[i,j] for i in G.nodes for j in G.nodes), GRB.MINIMIZE)"
   ]
  },
  {
   "cell_type": "code",
   "execution_count": 40,
   "id": "6115df42",
   "metadata": {},
   "outputs": [],
   "source": [
    "# add constraints saying that each county i is assigned to one district\n",
    "m.addConstrs( gp.quicksum(x[i,j] for j in G.nodes) == 1 for i in G.nodes)\n",
    "\n",
    "# add constraint saying there should be k district centers\n",
    "m.addConstr( gp.quicksum( x[j,j] for j in G.nodes ) == k )\n",
    "\n",
    "# add constraints that say: if j roots a district, then its population is between L and U.\n",
    "m.addConstrs( gp.quicksum( G.nodes[i]['POP100'] * x[i,j] for i in G.nodes) >= L * x[j,j] for j in G.nodes )\n",
    "m.addConstrs( gp.quicksum( G.nodes[i]['POP100'] * x[i,j] for i in G.nodes) <= U * x[j,j] for j in G.nodes )\n",
    "\n",
    "# add coupling constraints saying that if i is assigned to j, then j is a center.\n",
    "m.addConstrs( x[i,j] <= x[j,j] for i in G.nodes for j in G.nodes )\n",
    "\n",
    "m.update()"
   ]
  },
  {
   "cell_type": "code",
   "execution_count": 41,
   "id": "3d3e0876",
   "metadata": {},
   "outputs": [
    {
     "name": "stdout",
     "output_type": "stream",
     "text": [
      "Changed value of parameter MIPGap to 0.0\n",
      "   Prev: 0.0001  Min: 0.0  Max: inf  Default: 0.0001\n",
      "Gurobi Optimizer version 9.1.2 build v9.1.2rc0 (win64)\n",
      "Thread count: 8 physical cores, 16 logical processors, using up to 16 threads\n",
      "Optimize a model with 8929 rows, 8649 columns and 43152 nonzeros\n",
      "Model fingerprint: 0xe98f3ee6\n",
      "Variable types: 0 continuous, 8649 integer (8649 binary)\n",
      "Coefficient statistics:\n",
      "  Matrix range     [1e+00, 7e+05]\n",
      "  Objective range  [1e+05, 9e+10]\n",
      "  Bounds range     [1e+00, 1e+00]\n",
      "  RHS range        [1e+00, 3e+00]\n",
      "Warning: Model contains large objective coefficients\n",
      "         Consider reformulating model or setting NumericFocus parameter\n",
      "         to avoid numerical issues.\n",
      "Presolve removed 190 rows and 4 columns\n",
      "Presolve time: 0.08s\n",
      "Presolved: 8739 rows, 8645 columns, 43221 nonzeros\n",
      "Variable types: 0 continuous, 8645 integer (8645 binary)\n",
      "Found heuristic solution: objective 6.734167e+10\n",
      "Found heuristic solution: objective 3.618021e+10\n",
      "\n",
      "Root relaxation: objective 8.899077e+09, 4281 iterations, 0.61 seconds\n",
      "\n",
      "    Nodes    |    Current Node    |     Objective Bounds      |     Work\n",
      " Expl Unexpl |  Obj  Depth IntInf | Incumbent    BestBd   Gap | It/Node Time\n",
      "\n",
      "     0     0 8.8991e+09    0    4 3.6180e+10 8.8991e+09  75.4%     -    0s\n",
      "H    0     0                    8.988208e+09 8.8991e+09  0.99%     -    0s\n",
      "H    0     0                    8.958455e+09 8.8991e+09  0.66%     -    0s\n",
      "     0     0 8.9253e+09    0    8 8.9585e+09 8.9253e+09  0.37%     -    0s\n",
      "     0     0 8.9253e+09    0    3 8.9585e+09 8.9253e+09  0.37%     -    0s\n",
      "     0     0 8.9253e+09    0    8 8.9585e+09 8.9253e+09  0.37%     -    0s\n",
      "     0     0 8.9253e+09    0    3 8.9585e+09 8.9253e+09  0.37%     -    0s\n",
      "     0     0 8.9253e+09    0    8 8.9585e+09 8.9253e+09  0.37%     -    0s\n",
      "     0     0 8.9361e+09    0   11 8.9585e+09 8.9361e+09  0.25%     -    0s\n",
      "     0     0 8.9361e+09    0   12 8.9585e+09 8.9361e+09  0.25%     -    0s\n",
      "     0     0 8.9585e+09    0   14 8.9585e+09 8.9585e+09  0.00%     -    0s\n",
      "\n",
      "Cutting planes:\n",
      "  Gomory: 1\n",
      "  Cover: 5\n",
      "  MIR: 3\n",
      "  StrongCG: 2\n",
      "  GUB cover: 1\n",
      "  RLT: 2\n",
      "\n",
      "Explored 1 nodes (4399 simplex iterations) in 0.89 seconds\n",
      "Thread count was 16 (of 16 available processors)\n",
      "\n",
      "Solution count 4: 8.95845e+09 8.98821e+09 3.61802e+10 6.73417e+10 \n",
      "\n",
      "Optimal solution found (tolerance 0.00e+00)\n",
      "Best objective 8.958454703652e+09, best bound 8.958454703652e+09, gap 0.0000%\n"
     ]
    }
   ],
   "source": [
    "m.Params.MIPGap = 0.0\n",
    "m.optimize()"
   ]
  },
  {
   "cell_type": "code",
   "execution_count": 46,
   "id": "580e42b9",
   "metadata": {},
   "outputs": [
    {
     "name": "stdout",
     "output_type": "stream",
     "text": [
      "moment of intertia objective is, 8958454703.65208\n",
      "District 0 has population 652373 and contains counties ['Sioux', 'Lincoln', 'Sherman', 'Logan', 'Merrick', 'Sheridan', 'Grant', 'Blaine', 'Dixon', 'Stanton', 'Wheeler', 'Franklin', 'Chase', 'Buffalo', 'Fillmore', 'York', 'Seward', 'Clay', 'Cheyenne', 'Garden', 'Harlan', 'Hooker', 'Furnas', 'Howard', 'Valley', 'Cedar', 'Thayer', 'Deuel', 'Morrill', 'Hall', 'Hamilton', 'Loup', 'Frontier', 'Nance', 'Knox', 'Perkins', 'Colfax', 'Butler', 'Cherry', 'Nuckolls', 'Keith', 'Phelps', 'Webster', 'Boyd', 'Thomas', 'Holt', 'Brown', 'Keya Paha', 'Banner', 'Greeley', 'Jefferson', 'Saline', 'Dundy', 'Scotts Bluff', 'Adams', 'Kearney', 'Hitchcock', 'Kimball', 'Custer', 'Polk', 'Dawes', 'Wayne', 'Garfield', 'Pierce', 'Platte', 'Box Butte', 'Boone', 'Madison', 'McPherson', 'Red Willow', 'Rock', 'Gosper', 'Dawson', 'Arthur', 'Hayes', 'Antelope']\n",
      "District 1 has population 652576 and contains counties ['Pawnee', 'Sarpy', 'Saunders', 'Dodge', 'Richardson', 'Lancaster', 'Otoe', 'Cass', 'Gage', 'Johnson']\n",
      "District 2 has population 656555 and contains counties ['Burt', 'Washington', 'Cuming', 'Dakota', 'Nemaha', 'Douglas', 'Thurston']\n"
     ]
    }
   ],
   "source": [
    "print('moment of intertia objective is,',m.objval)\n",
    "#retrieve the districs and the populations\n",
    "# retrieve the districts and their populations\n",
    "centers = [j for j in G.nodes if x[j,j].x >0.5]\n",
    "districts1 = [ [i for i in G.nodes if x[i,j].x > 0.5] for j in centers]\n",
    "district_counties1 = [ [ G.nodes[i][\"NAME20\"] for i in districts1[j] ] for j in range(k)]\n",
    "district_populations1 = [ sum(G.nodes[i][\"POP100\"] for i in districts1[j]) for j in range(k) ]\n",
    "\n",
    "# print district info\n",
    "for j in range(k):\n",
    "    print(\"District\",j,\"has population\",district_populations1[j],\"and contains counties\",district_counties1[j])"
   ]
  },
  {
   "cell_type": "code",
   "execution_count": 47,
   "id": "53f9bb77",
   "metadata": {},
   "outputs": [],
   "source": [
    "# Draw it on a map\n",
    "import geopandas as gpd"
   ]
  },
  {
   "cell_type": "code",
   "execution_count": 48,
   "id": "9d8eb903",
   "metadata": {},
   "outputs": [],
   "source": [
    "# Read shapefile from\"NE_county.shp\"\n",
    "filename1 = r\"C:\\Users\\Keegan\\Downloads\\districting-data-2020-county_NE\\NE_county.shp\"\n",
    "\n",
    "# Read geopandas dataframe from the file\n",
    "\n",
    "df = gpd.read_file(filename1)"
   ]
  },
  {
   "cell_type": "code",
   "execution_count": 49,
   "id": "3ca82bb8",
   "metadata": {},
   "outputs": [
    {
     "data": {
      "image/png": "[encoded data removed]",
      "text/plain": [
       "<Figure size 432x288 with 1 Axes>"
      ]
     },
     "metadata": {
      "needs_background": "light"
     },
     "output_type": "display_data"
    }
   ],
   "source": [
    "# Which district is each county assigned to?\n",
    "assignment1 = [ -1 for u in G.nodes ]\n",
    "    \n",
    "# for each district j\n",
    "for j in range(len(districts1)):\n",
    "    \n",
    "    # for each node i in this district\n",
    "    for i in districts1[j]:\n",
    "        \n",
    "        # What is its GEOID?\n",
    "        geoID1 = G.nodes[i][\"GEOID20\"]\n",
    "        \n",
    "        # Need to find this GEOID in the dataframe\n",
    "        for u in G.nodes:\n",
    "            if geoID1 == df['GEOID20'][u]: # Found it\n",
    "                assignment1[u] = j \n",
    "                \n",
    "# Now add the assignments to a column of the dataframe and map it\n",
    "df2['assignment1'] = assignment1\n",
    "fig1 = df2.plot(column='assignment1').get_figure()\n"
   ]
  },
  {
   "cell_type": "code",
   "execution_count": null,
   "id": "c79b4b65",
   "metadata": {},
   "outputs": [],
   "source": []
  },
  {
   "cell_type": "code",
   "execution_count": null,
   "id": "fe3101cc",
   "metadata": {},
   "outputs": [],
   "source": []
  }
 ],
 "metadata": {
  "kernelspec": {
   "display_name": "Python 3",
   "language": "python",
   "name": "python3"
  },
  "language_info": {
   "codemirror_mode": {
    "name": "ipython",
    "version": 3
   },
   "file_extension": ".py",
   "mimetype": "text/x-python",
   "name": "python",
   "nbconvert_exporter": "python",
   "pygments_lexer": "ipython3",
   "version": "3.8.8"
  }
 },
 "nbformat": 4,
 "nbformat_minor": 5
}
